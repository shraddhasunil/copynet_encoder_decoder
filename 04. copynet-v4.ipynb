{
 "cells": [
  {
   "cell_type": "code",
   "execution_count": null,
   "metadata": {
    "collapsed": true
   },
   "outputs": [],
   "source": [
    "# for real data\n",
    "# create dataset of number sequences\n",
    "# let's assume that we have a vocabulary size of 1000 words\n",
    "# let's assume that 0 is the EOS token, and 1 is the SOS token, and 2 is PAD"
   ]
  },
  {
   "cell_type": "code",
   "execution_count": 2,
   "metadata": {
    "collapsed": false
   },
   "outputs": [
    {
     "name": "stdout",
     "output_type": "stream",
     "text": [
      "==================================================\n",
      "Epoch  1\n",
      "[100/980] Loss: 0.3453\n",
      "[200/980] Loss: 0.3516\n"
     ]
    },
    {
     "ename": "KeyboardInterrupt",
     "evalue": "",
     "output_type": "error",
     "traceback": [
      "\u001b[0;31m---------------------------------------------------------------------------\u001b[0m",
      "\u001b[0;31mKeyboardInterrupt\u001b[0m                         Traceback (most recent call last)",
      "\u001b[0;32m<ipython-input-2-037865ba84cc>\u001b[0m in \u001b[0;36m<module>\u001b[0;34m()\u001b[0m\n\u001b[1;32m    121\u001b[0m                 tmp_out, s, w = decoder(input_idx=decoder_in, encoded=encoded,\n\u001b[1;32m    122\u001b[0m                                 \u001b[0mencoded_idx\u001b[0m\u001b[0;34m=\u001b[0m\u001b[0minput_out\u001b[0m\u001b[0;34m,\u001b[0m \u001b[0mprev_state\u001b[0m\u001b[0;34m=\u001b[0m\u001b[0ms\u001b[0m\u001b[0;34m,\u001b[0m\u001b[0;34m\u001b[0m\u001b[0m\n\u001b[0;32m--> 123\u001b[0;31m                                 weighted=w, order=j)\n\u001b[0m\u001b[1;32m    124\u001b[0m                 \u001b[0mout\u001b[0m \u001b[0;34m=\u001b[0m \u001b[0mtorch\u001b[0m\u001b[0;34m.\u001b[0m\u001b[0mcat\u001b[0m\u001b[0;34m(\u001b[0m\u001b[0;34m[\u001b[0m\u001b[0mout\u001b[0m\u001b[0;34m,\u001b[0m\u001b[0mtmp_out\u001b[0m\u001b[0;34m]\u001b[0m\u001b[0;34m,\u001b[0m\u001b[0mdim\u001b[0m\u001b[0;34m=\u001b[0m\u001b[0;36m1\u001b[0m\u001b[0;34m)\u001b[0m\u001b[0;34m\u001b[0m\u001b[0m\n\u001b[1;32m    125\u001b[0m \u001b[0;34m\u001b[0m\u001b[0m\n",
      "\u001b[0;32m/home/mjc/anaconda3/envs/pytorch/lib/python3.5/site-packages/torch/nn/modules/module.py\u001b[0m in \u001b[0;36m__call__\u001b[0;34m(self, *input, **kwargs)\u001b[0m\n\u001b[1;32m    204\u001b[0m \u001b[0;34m\u001b[0m\u001b[0m\n\u001b[1;32m    205\u001b[0m     \u001b[0;32mdef\u001b[0m \u001b[0m__call__\u001b[0m\u001b[0;34m(\u001b[0m\u001b[0mself\u001b[0m\u001b[0;34m,\u001b[0m \u001b[0;34m*\u001b[0m\u001b[0minput\u001b[0m\u001b[0;34m,\u001b[0m \u001b[0;34m**\u001b[0m\u001b[0mkwargs\u001b[0m\u001b[0;34m)\u001b[0m\u001b[0;34m:\u001b[0m\u001b[0;34m\u001b[0m\u001b[0m\n\u001b[0;32m--> 206\u001b[0;31m         \u001b[0mresult\u001b[0m \u001b[0;34m=\u001b[0m \u001b[0mself\u001b[0m\u001b[0;34m.\u001b[0m\u001b[0mforward\u001b[0m\u001b[0;34m(\u001b[0m\u001b[0;34m*\u001b[0m\u001b[0minput\u001b[0m\u001b[0;34m,\u001b[0m \u001b[0;34m**\u001b[0m\u001b[0mkwargs\u001b[0m\u001b[0;34m)\u001b[0m\u001b[0;34m\u001b[0m\u001b[0m\n\u001b[0m\u001b[1;32m    207\u001b[0m         \u001b[0;32mfor\u001b[0m \u001b[0mhook\u001b[0m \u001b[0;32min\u001b[0m \u001b[0mself\u001b[0m\u001b[0;34m.\u001b[0m\u001b[0m_forward_hooks\u001b[0m\u001b[0;34m.\u001b[0m\u001b[0mvalues\u001b[0m\u001b[0;34m(\u001b[0m\u001b[0;34m)\u001b[0m\u001b[0;34m:\u001b[0m\u001b[0;34m\u001b[0m\u001b[0m\n\u001b[1;32m    208\u001b[0m             \u001b[0mhook_result\u001b[0m \u001b[0;34m=\u001b[0m \u001b[0mhook\u001b[0m\u001b[0;34m(\u001b[0m\u001b[0mself\u001b[0m\u001b[0;34m,\u001b[0m \u001b[0minput\u001b[0m\u001b[0;34m,\u001b[0m \u001b[0mresult\u001b[0m\u001b[0;34m)\u001b[0m\u001b[0;34m\u001b[0m\u001b[0m\n",
      "\u001b[0;32m/home/mjc/projects/copynet/models/copynet_debug.py\u001b[0m in \u001b[0;36mforward\u001b[0;34m(self, input_idx, encoded, encoded_idx, prev_state, weighted, order)\u001b[0m\n\u001b[1;32m    124\u001b[0m                 \u001b[0midx_from_input\u001b[0m \u001b[0;34m=\u001b[0m \u001b[0;34m[\u001b[0m\u001b[0;34m]\u001b[0m\u001b[0;34m\u001b[0m\u001b[0m\n\u001b[1;32m    125\u001b[0m                 \u001b[0;32mfor\u001b[0m \u001b[0mi\u001b[0m\u001b[0;34m,\u001b[0m\u001b[0mj\u001b[0m \u001b[0;32min\u001b[0m \u001b[0menumerate\u001b[0m\u001b[0;34m(\u001b[0m\u001b[0mencoded_idx\u001b[0m\u001b[0;34m)\u001b[0m\u001b[0;34m:\u001b[0m\u001b[0;34m\u001b[0m\u001b[0m\n\u001b[0;32m--> 126\u001b[0;31m                         \u001b[0midx_from_input\u001b[0m\u001b[0;34m.\u001b[0m\u001b[0mappend\u001b[0m\u001b[0;34m(\u001b[0m\u001b[0;34m[\u001b[0m\u001b[0mint\u001b[0m\u001b[0;34m(\u001b[0m\u001b[0mk\u001b[0m\u001b[0;34m==\u001b[0m\u001b[0minput_idx\u001b[0m\u001b[0;34m[\u001b[0m\u001b[0mi\u001b[0m\u001b[0;34m]\u001b[0m\u001b[0;34m.\u001b[0m\u001b[0mdata\u001b[0m\u001b[0;34m[\u001b[0m\u001b[0;36m0\u001b[0m\u001b[0;34m]\u001b[0m\u001b[0;34m)\u001b[0m \u001b[0;32mfor\u001b[0m \u001b[0mk\u001b[0m \u001b[0;32min\u001b[0m \u001b[0mj\u001b[0m\u001b[0;34m]\u001b[0m\u001b[0;34m)\u001b[0m\u001b[0;34m\u001b[0m\u001b[0m\n\u001b[0m\u001b[1;32m    127\u001b[0m                 \u001b[0midx_from_input\u001b[0m \u001b[0;34m=\u001b[0m \u001b[0mtorch\u001b[0m\u001b[0;34m.\u001b[0m\u001b[0mTensor\u001b[0m\u001b[0;34m(\u001b[0m\u001b[0mnp\u001b[0m\u001b[0;34m.\u001b[0m\u001b[0marray\u001b[0m\u001b[0;34m(\u001b[0m\u001b[0midx_from_input\u001b[0m\u001b[0;34m,\u001b[0m \u001b[0mdtype\u001b[0m\u001b[0;34m=\u001b[0m\u001b[0mfloat\u001b[0m\u001b[0;34m)\u001b[0m\u001b[0;34m)\u001b[0m\u001b[0;34m\u001b[0m\u001b[0m\n\u001b[1;32m    128\u001b[0m                 \u001b[0mself\u001b[0m\u001b[0;34m.\u001b[0m\u001b[0mI\u001b[0m\u001b[0;34m.\u001b[0m\u001b[0mappend\u001b[0m\u001b[0;34m(\u001b[0m\u001b[0midx_from_input\u001b[0m\u001b[0;34m)\u001b[0m\u001b[0;34m\u001b[0m\u001b[0m\n",
      "\u001b[0;32m/home/mjc/projects/copynet/models/copynet_debug.py\u001b[0m in \u001b[0;36m<listcomp>\u001b[0;34m(.0)\u001b[0m\n\u001b[1;32m    124\u001b[0m                 \u001b[0midx_from_input\u001b[0m \u001b[0;34m=\u001b[0m \u001b[0;34m[\u001b[0m\u001b[0;34m]\u001b[0m\u001b[0;34m\u001b[0m\u001b[0m\n\u001b[1;32m    125\u001b[0m                 \u001b[0;32mfor\u001b[0m \u001b[0mi\u001b[0m\u001b[0;34m,\u001b[0m\u001b[0mj\u001b[0m \u001b[0;32min\u001b[0m \u001b[0menumerate\u001b[0m\u001b[0;34m(\u001b[0m\u001b[0mencoded_idx\u001b[0m\u001b[0;34m)\u001b[0m\u001b[0;34m:\u001b[0m\u001b[0;34m\u001b[0m\u001b[0m\n\u001b[0;32m--> 126\u001b[0;31m                         \u001b[0midx_from_input\u001b[0m\u001b[0;34m.\u001b[0m\u001b[0mappend\u001b[0m\u001b[0;34m(\u001b[0m\u001b[0;34m[\u001b[0m\u001b[0mint\u001b[0m\u001b[0;34m(\u001b[0m\u001b[0mk\u001b[0m\u001b[0;34m==\u001b[0m\u001b[0minput_idx\u001b[0m\u001b[0;34m[\u001b[0m\u001b[0mi\u001b[0m\u001b[0;34m]\u001b[0m\u001b[0;34m.\u001b[0m\u001b[0mdata\u001b[0m\u001b[0;34m[\u001b[0m\u001b[0;36m0\u001b[0m\u001b[0;34m]\u001b[0m\u001b[0;34m)\u001b[0m \u001b[0;32mfor\u001b[0m \u001b[0mk\u001b[0m \u001b[0;32min\u001b[0m \u001b[0mj\u001b[0m\u001b[0;34m]\u001b[0m\u001b[0;34m)\u001b[0m\u001b[0;34m\u001b[0m\u001b[0m\n\u001b[0m\u001b[1;32m    127\u001b[0m                 \u001b[0midx_from_input\u001b[0m \u001b[0;34m=\u001b[0m \u001b[0mtorch\u001b[0m\u001b[0;34m.\u001b[0m\u001b[0mTensor\u001b[0m\u001b[0;34m(\u001b[0m\u001b[0mnp\u001b[0m\u001b[0;34m.\u001b[0m\u001b[0marray\u001b[0m\u001b[0;34m(\u001b[0m\u001b[0midx_from_input\u001b[0m\u001b[0;34m,\u001b[0m \u001b[0mdtype\u001b[0m\u001b[0;34m=\u001b[0m\u001b[0mfloat\u001b[0m\u001b[0;34m)\u001b[0m\u001b[0;34m)\u001b[0m\u001b[0;34m\u001b[0m\u001b[0m\n\u001b[1;32m    128\u001b[0m                 \u001b[0mself\u001b[0m\u001b[0;34m.\u001b[0m\u001b[0mI\u001b[0m\u001b[0;34m.\u001b[0m\u001b[0mappend\u001b[0m\u001b[0;34m(\u001b[0m\u001b[0midx_from_input\u001b[0m\u001b[0;34m)\u001b[0m\u001b[0;34m\u001b[0m\u001b[0m\n",
      "\u001b[0;31mKeyboardInterrupt\u001b[0m: "
     ]
    }
   ],
   "source": [
    "import torch\n",
    "import torch.nn as nn\n",
    "import numpy as np\n",
    "import torch.optim as optim\n",
    "from torch.nn.utils.rnn import pack_padded_sequence, pad_packed_sequence\n",
    "from torch.autograd import Variable\n",
    "import torch.nn.functional as F\n",
    "from models.copynet_debug import CopyEncoder, CopyDecoder\n",
    "from models.functions import numpy_to_var, toData, to_np, to_var, visualize, decoder_initial, update_logger\n",
    "import time\n",
    "import sys\n",
    "import math\n",
    "torch.manual_seed(1000)\n",
    "\n",
    "# Hyperparameters\n",
    "embed_size = 150\n",
    "hidden_size = 300\n",
    "num_layers = 1\n",
    "bin_size = 10\n",
    "num_epochs = 40\n",
    "prev_end=0\n",
    "batch_size = 100\n",
    "lr = 0.001\n",
    "vocab_size = 100\n",
    "weight_decay = 0.99\n",
    "use_saved = True # whether to train from a previous model\n",
    "continue_from = 70\n",
    "step = 0 # number of steps taken\n",
    "\n",
    "# input and output directories\n",
    "version = 'v6'\n",
    "vocab_size = 1000\n",
    "data_dir = 'data/copynet_data_%s.txt' %(version)\n",
    "save_dir = 'results/copynet_data_%s.csv' %(version)\n",
    "\n",
    "\n",
    "# get training and test data\n",
    "with open(data_dir) as f:\n",
    "    lines = f.readlines()\n",
    "import random\n",
    "half = int(len(lines)/2)\n",
    "train = lines\n",
    "random.shuffle(train)\n",
    "test = train[:20]\n",
    "train = train[20:]\n",
    "\n",
    "# get number of batches\n",
    "num_samples = len(train)\n",
    "num_batches = int(num_samples/batch_size)\n",
    "\n",
    "\n",
    "################ load copynet model #####################\n",
    "if use_saved:\n",
    "    # if using from previous data\n",
    "    encoder_dir = 'models/encoder_%s_%s.pckl' % (version,continue_from)\n",
    "    decoder_dir = 'models/decoder_%s_%s.pckl' % (version,continue_from)\n",
    "    encoder = torch.load(f=encoder_dir)\n",
    "    decoder = torch.load(f=decoder_dir)\n",
    "else:\n",
    "    encoder = CopyEncoder(vocab_size, embed_size, hidden_size)\n",
    "    decoder = CopyDecoder(vocab_size, embed_size, hidden_size)\n",
    "    continue_from = 0\n",
    "if torch.cuda.is_available():\n",
    "    encoder.cuda()\n",
    "    decoder.cuda()\n",
    "\n",
    "################################# training ##################################\n",
    "\n",
    "# set loss\n",
    "criterion = nn.NLLLoss()\n",
    "\n",
    "start = time.time()\n",
    "for epoch in range(num_epochs):\n",
    "    print(\"==================================================\")\n",
    "    print(\"Epoch \",epoch+1)\n",
    "    opt_e = optim.Adam(params=encoder.parameters(), lr=lr)\n",
    "    opt_d = optim.Adam(params=decoder.parameters(), lr=lr)\n",
    "    lr= lr * weight_decay # weight decay\n",
    "    # shuffle data\n",
    "    random.shuffle(train)\n",
    "    samples_read = 0\n",
    "    while(samples_read<len(train)):\n",
    "        # initialize gradient buffers\n",
    "        opt_e.zero_grad()\n",
    "        opt_d.zero_grad()\n",
    "\n",
    "        # obtain batch outputs\n",
    "        batch = train[samples_read:min(samples_read+batch_size,len(train))]\n",
    "        input_out, output_out, in_len, out_len = toData(batch)\n",
    "        samples_read+=len(batch)\n",
    "\n",
    "        # mask input to remove padding\n",
    "        input_mask = np.array(input_out>0, dtype=int)\n",
    "\n",
    "        # input and output in Variable form\n",
    "        x = numpy_to_var(input_out)\n",
    "        y = numpy_to_var(output_out)\n",
    "\n",
    "        # apply to encoder\n",
    "        encoded, _ = encoder(x)\n",
    "\n",
    "        # get initial input of decoder\n",
    "        decoder_in, s, w = decoder_initial(x.size(0))\n",
    "\n",
    "        # out_list to store outputs\n",
    "        out_list=[]\n",
    "        for j in range(y.size(1)): # for all sequences\n",
    "            \"\"\"\n",
    "            decoder_in (Variable): [b]\n",
    "            encoded (Variable): [b x seq x hid]\n",
    "            input_out (np.array): [b x seq]\n",
    "            s (Variable): [b x hid]\n",
    "            \"\"\"\n",
    "            # 1st state\n",
    "            if j==0:\n",
    "                out, s, w = decoder(input_idx=decoder_in, encoded=encoded,\n",
    "                                encoded_idx=input_out, prev_state=s,\n",
    "                                weighted=w, order=j)\n",
    "            # remaining states\n",
    "            else:\n",
    "                tmp_out, s, w = decoder(input_idx=decoder_in, encoded=encoded,\n",
    "                                encoded_idx=input_out, prev_state=s,\n",
    "                                weighted=w, order=j)\n",
    "                out = torch.cat([out,tmp_out],dim=1)\n",
    "\n",
    "            # for debugging: stop if nan\n",
    "            if math.isnan(w[-1][0][0].data[0]):\n",
    "                sys.exit()\n",
    "            # select next input\n",
    "\n",
    "            if epoch % 2 ==13:\n",
    "                decoder_in = out[:,-1].max(1)[1].squeeze() # train with sequence outputs\n",
    "            else:\n",
    "                decoder_in = y[:,j] # train with ground truth\n",
    "            out_list.append(out[:,-1].max(1)[1].squeeze().cpu().data.numpy())\n",
    "\n",
    "        # print(torch.stack(decoder.prob_c_to_g,1))\n",
    "        target = pack_padded_sequence(y,out_len.tolist(), batch_first=True)[0]\n",
    "        pad_out = pack_padded_sequence(out,out_len.tolist(), batch_first=True)[0]\n",
    "        # include log computation as we are using log-softmax and NLL\n",
    "        pad_out = torch.log(pad_out)\n",
    "        loss = criterion(pad_out, target)\n",
    "        loss.backward()\n",
    "        # if samples_read%500==0:\n",
    "        print(\"[%d/%d] Loss: %1.4f\"%(samples_read,len(train),loss.data[0]))\n",
    "        opt_e.step()\n",
    "        opt_d.step()\n",
    "        step += 1\n",
    "        info = {\n",
    "            'loss': loss.data[0]\n",
    "        }\n",
    "    # print(\"Loss: \",loss.data[0])\n",
    "    elapsed = time.time()\n",
    "    print(\"Elapsed time for epoch: \",elapsed-start)\n",
    "    start = time.time()\n",
    "\n",
    "    ################################# validation ##################################\n",
    "    if epoch % 10==0:\n",
    "        print(\"Printing results\")\n",
    "        input_out, output_out, in_len, out_len = toData(test)\n",
    "        input_mask = np.array(input_out>0, dtype=int)\n",
    "        x = numpy_to_var(input_out)\n",
    "        y = numpy_to_var(output_out)\n",
    "        if epoch==0:\n",
    "            with open(save_dir,'a') as f:\n",
    "                x_input = x.cpu().data.numpy().transpose()\n",
    "                y_input = y.cpu().data.numpy().transpose()\n",
    "                m = max(x_input.shape[0],y_input.shape[0])\n",
    "                out_ = np.zeros([m,x_input.shape[1]*2])\n",
    "                out_[:x_input.shape[0],x_input.shape[1]:]=x_input\n",
    "                out_[:y_input.shape[0],:y_input.shape[1]]=y_input\n",
    "                out = []\n",
    "                for line in out_:\n",
    "                    tmp = ','.join([str(x_) for x_ in line])\n",
    "                    out.append(tmp)\n",
    "                f.write('\\n'.join(out)+'\\n')\n",
    "        encoded, _ = encoder(x)\n",
    "        decoder_in, s, w = decoder_initial(x.size(0))\n",
    "        out_list=[]\n",
    "        for j in range(y.size(1)): # for all sequences\n",
    "            if j==0:\n",
    "                out, s, w = decoder(input_idx=decoder_in, encoded=encoded,\n",
    "                                encoded_idx=input_out, prev_state=s,\n",
    "                                weighted=w, order=j)\n",
    "            else:\n",
    "                tmp_out, s, w = decoder(input_idx=decoder_in, encoded=encoded,\n",
    "                                encoded_idx=input_out, prev_state=s,\n",
    "                                weighted=w, order=j)\n",
    "                out = torch.cat([out,tmp_out],dim=1)\n",
    "            decoder_in = out[:,-1].max(1)[1].squeeze() # train with sequence outputs\n",
    "            out_list.append(out[:,-1].max(1)[1].squeeze().cpu().data.numpy())\n",
    "        out = np.array(out_list)\n",
    "        iden = np.array(out==y_input,dtype=int)\n",
    "        with open(save_dir,'a') as f:\n",
    "            out = np.hstack(tup=(out,iden))\n",
    "            f.write('\\n')\n",
    "            for line in out:\n",
    "                f.write(','.join([str(y_) for y_ in line])+'\\n')\n",
    "        torch.save(f='models/encoder_%s_%s.pckl' % (version,str(epoch+continue_from)),obj=encoder)\n",
    "        torch.save(f='models/decoder_%s_%s.pckl' % (version,str(epoch+continue_from)),obj=decoder)\n"
   ]
  },
  {
   "cell_type": "code",
   "execution_count": 3,
   "metadata": {
    "collapsed": false
   },
   "outputs": [
    {
     "name": "stdout",
     "output_type": "stream",
     "text": [
      "Printing results\n"
     ]
    }
   ],
   "source": [
    "################################# validation ##################################\n",
    "print(\"Printing results\")\n",
    "input_out, output_out, in_len, out_len = toData(test[:10])\n",
    "input_mask = np.array(input_out>0, dtype=int)\n",
    "x = numpy_to_var(input_out)\n",
    "y = numpy_to_var(output_out)\n",
    "encoded, _ = encoder(x)\n",
    "decoder_in, s, w = decoder_initial(x.size(0))\n",
    "out_list=[]\n",
    "for j in range(y.size(1)): # for all sequences\n",
    "    if j==0:\n",
    "        out, s, w = decoder(input_idx=decoder_in, encoded=encoded,\n",
    "                        encoded_idx=input_out, prev_state=s, \n",
    "                        weighted=w, order=j)\n",
    "    else:\n",
    "        tmp_out, s, w = decoder(input_idx=decoder_in, encoded=encoded,\n",
    "                        encoded_idx=input_out, prev_state=s, \n",
    "                        weighted=w, order=j)\n",
    "        out = torch.cat([out,tmp_out],dim=1)\n",
    "    decoder_in = y[:,j] # train with ground truth\n",
    "#     decoder_in = out[:,-1].max(1)[1].squeeze() # train with sequence outputs\n",
    "    out_list.append(out[:,-1].max(1)[1].squeeze().cpu().data.numpy())\n",
    "# with open(save_dir,'a') as f:\n",
    "#     out = np.hstack(tup=(out,iden))\n",
    "#     f.write('\\n')\n",
    "#     for line in out:\n",
    "#         f.write(','.join([str(y_) for y_ in line])+'\\n')"
   ]
  },
  {
   "cell_type": "code",
   "execution_count": 4,
   "metadata": {
    "collapsed": true
   },
   "outputs": [],
   "source": [
    "%matplotlib inline"
   ]
  },
  {
   "cell_type": "code",
   "execution_count": 11,
   "metadata": {
    "collapsed": false
   },
   "outputs": [
    {
     "name": "stdout",
     "output_type": "stream",
     "text": [
      "input:  [502 840 679 776 209 707 471 490 267   1]\n",
      "truth:  [467 864 939 103 840 679 776 209 863 938   1]\n",
      "output:  [467 864 939 103 840 840 776 776 863 938   1]\n"
     ]
    }
   ],
   "source": [
    "# debug\n",
    "# get a sample input, ground truth, output\n",
    "idx = 0\n",
    "print(\"input: \",x[idx].cpu().data.numpy())\n",
    "print(\"truth: \",y[idx].cpu().data.numpy())\n",
    "O = torch.cat(decoder.O,1)\n",
    "print(\"output: \",O[idx].max(1)[1].cpu().numpy().squeeze())\n",
    "A = torch.stack(decoder.A,1)\n",
    "A2 = torch.stack(decoder.A2,1)\n",
    "P = torch.stack(decoder.P,1)\n",
    "I = torch.stack(decoder.I,1)\n",
    "E = torch.stack(decoder.E,1)\n",
    "S = torch.stack(decoder.S,1)\n",
    "W = torch.cat(decoder.W,1)\n",
    "Y = torch.stack(decoder.Y,1)\n",
    "scores = torch.stack(decoder.scores,1)\n",
    "sc = torch.stack(decoder.sc,1)\n",
    "pcg = torch.stack(decoder.prob_c_to_g,1)\n",
    "pc = P[:,:,1000:]\n",
    "pg = P[:,:,:1000]"
   ]
  },
  {
   "cell_type": "code",
   "execution_count": 14,
   "metadata": {
    "collapsed": false
   },
   "outputs": [
    {
     "data": {
      "image/png": "[encoded data removed]",
      "text/plain": [
       "<matplotlib.figure.Figure at 0x7f139869edd8>"
      ]
     },
     "metadata": {},
     "output_type": "display_data"
    }
   ],
   "source": [
    "visualize(Variable(O[idx,4:6,:]))"
   ]
  },
  {
   "cell_type": "code",
   "execution_count": null,
   "metadata": {
    "collapsed": true
   },
   "outputs": [],
   "source": []
  }
 ],
 "metadata": {
  "anaconda-cloud": {},
  "kernelspec": {
   "display_name": "Python [conda env:pytorch]",
   "language": "python",
   "name": "conda-env-pytorch-py"
  },
  "language_info": {
   "codemirror_mode": {
    "name": "ipython",
    "version": 3
   },
   "file_extension": ".py",
   "mimetype": "text/x-python",
   "name": "python",
   "nbconvert_exporter": "python",
   "pygments_lexer": "ipython3",
   "version": "3.5.2"
  }
 },
 "nbformat": 4,
 "nbformat_minor": 1
}
